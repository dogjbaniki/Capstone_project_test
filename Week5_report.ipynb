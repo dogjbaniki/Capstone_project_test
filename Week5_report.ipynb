{
 "cells": [
  {
   "cell_type": "markdown",
   "metadata": {},
   "source": [
    "## Background Discussion and Business Proposal\n",
    "### 1.Introduction\n",
    "Nowadays, more and more people are immigrating to Canada from all over the world, and Toronto, as the economic and transportation center of Canada, has become the first choice for many people to settle in.\n",
    "\n",
    "This project is aim to help people explore better facilities in Scarborough, help people understand the area and nearby areas before moving to a new city, state, country or region to work or start a new life. It will help people make a wise decision to choose the best neighborhood in Scarborough.\n",
    "\n",
    "This project will analyze the characteristics of different neighborhoods, including median housing price, better school according to ratings, crime rates of particular area, road connectivity, weather conditions, good management for emergency, water resources both fresh and waste and so on. So they could have easy access to Café, better schools, shopping malls, and like-minded people.\n",
    "\n",
    "### 2.Data\n",
    "\n",
    "Data Link:https://en.wikipedia.org/wiki/List_of_postal_codes_of_Canada:_M\n",
    "\n",
    "We will use Scarborough dataset which we scrapped from wikipedia on Week 3. Dataset consisting of latitude and longitude, zip codes.To compare the similarities of two cities, we decided to explore neighborhoods, segment them, and group them into clusters to find similar neighborhoods i. To be able to do that, we need to cluster data which is a form of unsupervised machine learning: k-means clustering algorithm.\n",
    "\n",
    "We will need the information retrieved from Foursquare as follow: Neighborhood, Neighborhood Latitude, Neighborhood Longitude, Venue, Name of the venue, Venue Latitude, Venue Longitude, Venue Category. While analysis, we will combine these data with which we scrap from wikipedia.\n",
    "\n",
    "### 3.Methodology\n",
    "\n",
    "__libraries__\n",
    "\n",
    "Foursquare API: perform location search, sharing and obtain details about business based on its database of millions of places.\n",
    "\n",
    "Numpy and Pandas: basic libraries to manipulate series and dataframe\n",
    "\n",
    "Matplotlib: data visualization\n",
    "\n",
    "BeautifulSoup and requests: scrap data from webpages\n",
    "\n",
    "Sklearn: perform machine learning, concretely, the k mean cluster\n",
    "\n",
    "Folium: construct an interactive map\n",
    "\n",
    "__K-Means Cluster__\n",
    "\n",
    "To compare the similarities of two cities, we decided to explore neighborhoods, segment them, and group them into clusters to find similar neighborhoods in a big city like New York and Toronto. To be able to do that, we need to cluster data which is a form of unsupervised machine learning: k-means clustering algorithm.\n",
    "\n",
    "### 4.Result\n",
    "__Map of Scarborough__\n",
    "\n",
    "<img src=\"https://github.com/dogjbaniki/Capstone_project_test/blob/master/map_of_Scarborough.jpg\">\n",
    "\n",
    "__Average Housing Price by Clusters in Scarborough__\n",
    "\n",
    "<img src=\"https://github.com/dogjbaniki/Capstone_project_test/blob/master/1.jpg\">\n",
    "\n",
    "__School Rating__\n",
    "\n",
    "<img src=\"https://github.com/dogjbaniki/Capstone_project_test/blob/master/2.jpg\">\n",
    "\n",
    "### 5.Discussion\n",
    "\n",
    "The major purpose of this project, is to suggest a better neighborhood in a new city for the person who are shiffting there. Social presence in society in terms of like minded people. Connectivity to the airport, bus stand, city center, markets and other daily needs things nearby.\n",
    "\n",
    "For those who are looking for school for their children, they could reach a balance between house price and school rating\n",
    "\n",
    "### 6.Conclusion\n",
    "\n",
    "In this project, k-means cluster was performed to classify the Scarborough area into ten different clusters and they have very similar neighborhood around them. A particular neighborhood based on average house prices and school rating has presente\n"
   ]
  },
  {
   "cell_type": "code",
   "execution_count": null,
   "metadata": {},
   "outputs": [],
   "source": []
  }
 ],
 "metadata": {
  "kernelspec": {
   "display_name": "Python",
   "language": "python",
   "name": "conda-env-python-py"
  },
  "language_info": {
   "codemirror_mode": {
    "name": "ipython",
    "version": 3
   },
   "file_extension": ".py",
   "mimetype": "text/x-python",
   "name": "python",
   "nbconvert_exporter": "python",
   "pygments_lexer": "ipython3",
   "version": "3.6.10"
  }
 },
 "nbformat": 4,
 "nbformat_minor": 4
}
