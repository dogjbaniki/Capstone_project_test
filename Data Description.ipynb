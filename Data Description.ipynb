{
 "cells": [
  {
   "cell_type": "markdown",
   "metadata": {},
   "source": [
    "## Data Description\n",
    "Data Link:https://en.wikipedia.org/wiki/List_of_postal_codes_of_Canada:_M\n",
    "\n",
    "We will use Scarborough dataset which we scrapped from wikipedia on Week 3. Dataset consisting of latitude and longitude, zip codes.\n",
    "To compare the similarities of two cities, we decided to explore neighborhoods, segment them, and group them into clusters to find similar neighborhoods i. To be able to do that, we need to cluster data which is a form of unsupervised machine learning: k-means clustering algorithm.\n",
    "\n",
    "We will need the information retrieved from Foursquare as follow: Neighborhood, Neighborhood Latitude, Neighborhood Longitude, Venue, Name of the venue, Venue Latitude, Venue Longitude, Venue Category. While analysis, we will combine these data with which we scrap from wikipedia.\n",
    "### Libraries and API for project:\n",
    "Foursquare API: perform location search, sharing and obtain details about business based on its database of millions of places.\n",
    "\n",
    "Numpy and Pandas: basic libraries to manipulate series and dataframe\n",
    "\n",
    "Matplotlib: data visualization\n",
    "\n",
    "BeautifulSoup and requests: scrap data from webpages\n",
    "\n",
    "Sklearn: perform machine learning, concretely, the k mean cluster\n",
    "\n",
    "Folium: construct an interactive map\n"
   ]
  },
  {
   "cell_type": "code",
   "execution_count": null,
   "metadata": {},
   "outputs": [],
   "source": []
  }
 ],
 "metadata": {
  "kernelspec": {
   "display_name": "Python 3",
   "language": "python",
   "name": "python3"
  },
  "language_info": {
   "codemirror_mode": {
    "name": "ipython",
    "version": 3
   },
   "file_extension": ".py",
   "mimetype": "text/x-python",
   "name": "python",
   "nbconvert_exporter": "python",
   "pygments_lexer": "ipython3",
   "version": "3.6.5"
  }
 },
 "nbformat": 4,
 "nbformat_minor": 2
}
