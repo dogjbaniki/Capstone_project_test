{
 "cells": [
  {
   "cell_type": "markdown",
   "metadata": {},
   "source": [
    "## Background Discussion and Business Proposal\n",
    "\n",
    "### Introduction\n",
    "Nowadays, more and more people are immigrating to Canada from all over the world, and Toronto, as the economic and transportation center of Canada, has become the first choice for many people to settle in.\n",
    "\n",
    "This project is aim to help people explore better facilities in Scarborough, help people understand the area and nearby areas before moving to a new city, state, country or region to work or start a new life. It will help people make a wise decision to choose the best neighborhood in Scarborough.\n",
    "\n",
    "This project will analyze the characteristics of different neighborhoods, including median housing price, better school according to ratings, crime rates of particular area, road connectivity, weather conditions, good management for emergency, water resources both fresh and waste and so on. So they could have easy access to Café, better schools, shopping malls, and like-minded people.\n",
    "\n",
    "### About Scarborough\n",
    "\n",
    "Scarborough is a popular destination for new immigrants in Canada to reside. As a result, it is one of the most diverse and multicultural areas in the Greater Toronto Area, being home to various religious groups and places of worship. Although immigration has become a hot topic over the past few years with more governments seeking more restrictions on immigrants and refugees, the general trend of immigration into Canada has been one of on the rise."
   ]
  },
  {
   "cell_type": "code",
   "execution_count": null,
   "metadata": {},
   "outputs": [],
   "source": []
  }
 ],
 "metadata": {
  "kernelspec": {
   "display_name": "Python 3",
   "language": "python",
   "name": "python3"
  },
  "language_info": {
   "codemirror_mode": {
    "name": "ipython",
    "version": 3
   },
   "file_extension": ".py",
   "mimetype": "text/x-python",
   "name": "python",
   "nbconvert_exporter": "python",
   "pygments_lexer": "ipython3",
   "version": "3.6.5"
  }
 },
 "nbformat": 4,
 "nbformat_minor": 2
}
